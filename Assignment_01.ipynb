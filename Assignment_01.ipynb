{
  "cells": [
    {
      "cell_type": "markdown",
      "metadata": {
        "id": "view-in-github",
        "colab_type": "text"
      },
      "source": [
        "<a href=\"https://colab.research.google.com/github/2303a510B1/14_PDS_10B1/blob/main/Assignment_01.ipynb\" target=\"_parent\"><img src=\"https://colab.research.google.com/assets/colab-badge.svg\" alt=\"Open In Colab\"/></a>"
      ]
    },
    {
      "cell_type": "code",
      "source": [
        "# Factorial using Recursion and Iteration\n",
        "# Objective: Understand recursion, base case, recursive case, and optimization\n",
        "\n",
        "# Recursive factorial function with tracing\n",
        "def factorial_recursive(n, depth=0):\n",
        "    \"\"\"Compute factorial using recursion with tracing.\"\"\"\n",
        "    print(\"  \" * depth + f\"factorial_recursive({n}) called\")\n",
        "\n",
        "    # Input validation\n",
        "    if n < 0:\n",
        "        raise ValueError(\"Factorial is not defined for negative numbers\")\n",
        "\n",
        "    # Base case\n",
        "    if n == 0 or n == 1:\n",
        "        print(\"  \" * depth + f\"Returning 1 (base case)\")\n",
        "        return 1\n",
        "\n",
        "    # Recursive case\n",
        "    result = n * factorial_recursive(n - 1, depth + 1)\n",
        "    print(\"  \" * depth + f\"Returning {result} for factorial_recursive({n})\")\n",
        "    return result\n",
        "\n",
        "\n",
        "# Tail recursive factorial function\n",
        "def factorial_tail_recursive(n, accumulator=1):\n",
        "    \"\"\"Tail-recursive version of factorial.\"\"\"\n",
        "    if n < 0:\n",
        "        raise ValueError(\"Factorial is not defined for negative numbers\")\n",
        "    if n == 0:\n",
        "        return accumulator\n",
        "    return factorial_tail_recursive(n - 1, n * accumulator)\n",
        "\n",
        "\n",
        "# Iterative factorial function\n",
        "def factorial_iterative(n):\n",
        "    \"\"\"Compute factorial using iteration.\"\"\"\n",
        "    if n < 0:\n",
        "        raise ValueError(\"Factorial is not defined for negative numbers\")\n",
        "    result = 1\n",
        "    for i in range(1, n + 1):\n",
        "        result *= i\n",
        "    return result\n",
        "\n",
        "\n",
        "# Main program\n",
        "if __name__ == \"__main__\":\n",
        "    try:\n",
        "        num = int(input(\"Enter a non-negative integer: \"))\n",
        "\n",
        "        print(\"\\n--- Recursive Factorial with Tracing ---\")\n",
        "        rec_result = factorial_recursive(num)\n",
        "        print(f\"Factorial of {num} (recursive) = {rec_result}\")\n",
        "\n",
        "        print(\"\\n--- Tail Recursive Factorial ---\")\n",
        "        tail_result = factorial_tail_recursive(num)\n",
        "        print(f\"Factorial of {num} (tail recursive) = {tail_result}\")\n",
        "\n",
        "        print(\"\\n--- Iterative Factorial ---\")\n",
        "        iter_result = factorial_iterative(num)\n",
        "        print(f\"Factorial of {num} (iterative) = {iter_result}\")\n",
        "\n",
        "        # Comparison\n",
        "        print(\"\\n--- Comparison Table ---\")\n",
        "        print(f\"Recursive Result: {rec_result}\")\n",
        "        print(f\"Tail Recursive Result: {tail_result}\")\n",
        "        print(f\"Iterative Result: {iter_result}\")\n",
        "\n",
        "    except ValueError as e:\n",
        "        print(\"Error:\", e)\n"
      ],
      "metadata": {
        "colab": {
          "base_uri": "https://localhost:8080/"
        },
        "id": "nFU-Qr8TvAQ0",
        "outputId": "dc94f9aa-04a7-41ea-d37f-ab18f6938c9c"
      },
      "execution_count": null,
      "outputs": [
        {
          "output_type": "stream",
          "name": "stdout",
          "text": [
            "Enter a non-negative integer: 5\n",
            "\n",
            "--- Recursive Factorial with Tracing ---\n",
            "factorial_recursive(5) called\n",
            "  factorial_recursive(4) called\n",
            "    factorial_recursive(3) called\n",
            "      factorial_recursive(2) called\n",
            "        factorial_recursive(1) called\n",
            "        Returning 1 (base case)\n",
            "      Returning 2 for factorial_recursive(2)\n",
            "    Returning 6 for factorial_recursive(3)\n",
            "  Returning 24 for factorial_recursive(4)\n",
            "Returning 120 for factorial_recursive(5)\n",
            "Factorial of 5 (recursive) = 120\n",
            "\n",
            "--- Tail Recursive Factorial ---\n",
            "Factorial of 5 (tail recursive) = 120\n",
            "\n",
            "--- Iterative Factorial ---\n",
            "Factorial of 5 (iterative) = 120\n",
            "\n",
            "--- Comparison Table ---\n",
            "Recursive Result: 120\n",
            "Tail Recursive Result: 120\n",
            "Iterative Result: 120\n"
          ]
        }
      ]
    }
  ],
  "metadata": {
    "colab": {
      "toc_visible": true,
      "provenance": [],
      "include_colab_link": true
    },
    "kernelspec": {
      "display_name": "Python 3",
      "name": "python3"
    }
  },
  "nbformat": 4,
  "nbformat_minor": 0
}