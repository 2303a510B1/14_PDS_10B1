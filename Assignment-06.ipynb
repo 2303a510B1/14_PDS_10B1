{
  "cells": [
    {
      "cell_type": "markdown",
      "metadata": {
        "id": "view-in-github",
        "colab_type": "text"
      },
      "source": [
        "<a href=\"https://colab.research.google.com/github/2303a510B1/14_PDS_10B1/blob/main/Assignment-06.ipynb\" target=\"_parent\"><img src=\"https://colab.research.google.com/assets/colab-badge.svg\" alt=\"Open In Colab\"/></a>"
      ]
    },
    {
      "cell_type": "code",
      "source": [
        "import pandas as pd\n",
        "\n",
        "# Load mock Titanic dataset\n",
        "df = pd.read_csv('/content/titanic_mock.csv')\n",
        "\n",
        "print(\"=== Missing Values BEFORE Cleaning ===\")\n",
        "print(df.isnull().sum())\n",
        "\n",
        "# Fill missing 'Age' with mean Age\n",
        "df['Age'].fillna(df['Age'].mean(), inplace=True)\n",
        "\n",
        "# Fill missing 'Embarked' with mode\n",
        "df['Embarked'].fillna(df['Embarked'].mode()[0], inplace=True)\n",
        "\n",
        "# Drop the 'Cabin' column as it has many missing values and is not essential\n",
        "df.drop(columns=['Cabin'], inplace=True)\n",
        "\n",
        "print(\"\\n=== Missing Values AFTER Cleaning ===\")\n",
        "print(df.isnull().sum())\n",
        "\n",
        "# Save the cleaned dataset\n",
        "df.to_csv('/content/titanic_cleaned.csv', index=False)\n",
        "\n",
        "print(\"\\nCleaned dataset saved as 'titanic_cleaned.csv'\")\n"
      ],
      "metadata": {
        "id": "QjZgtOCS8FTS",
        "outputId": "c3417292-d37b-4982-d426-896300775b60",
        "colab": {
          "base_uri": "https://localhost:8080/"
        }
      },
      "execution_count": 18,
      "outputs": [
        {
          "output_type": "stream",
          "name": "stdout",
          "text": [
            "=== Missing Values BEFORE Cleaning ===\n",
            "PassengerId    0\n",
            "Survived       0\n",
            "Pclass         0\n",
            "Name           0\n",
            "Sex            0\n",
            "Age            1\n",
            "SibSp          0\n",
            "Parch          0\n",
            "Ticket         0\n",
            "Fare           0\n",
            "Cabin          2\n",
            "Embarked       1\n",
            "dtype: int64\n",
            "\n",
            "=== Missing Values AFTER Cleaning ===\n",
            "PassengerId    0\n",
            "Survived       0\n",
            "Pclass         0\n",
            "Name           0\n",
            "Sex            0\n",
            "Age            0\n",
            "SibSp          0\n",
            "Parch          0\n",
            "Ticket         0\n",
            "Fare           0\n",
            "Embarked       0\n",
            "dtype: int64\n",
            "\n",
            "Cleaned dataset saved as 'titanic_cleaned.csv'\n"
          ]
        },
        {
          "output_type": "stream",
          "name": "stderr",
          "text": [
            "/tmp/ipython-input-2022044184.py:10: FutureWarning: A value is trying to be set on a copy of a DataFrame or Series through chained assignment using an inplace method.\n",
            "The behavior will change in pandas 3.0. This inplace method will never work because the intermediate object on which we are setting values always behaves as a copy.\n",
            "\n",
            "For example, when doing 'df[col].method(value, inplace=True)', try using 'df.method({col: value}, inplace=True)' or df[col] = df[col].method(value) instead, to perform the operation inplace on the original object.\n",
            "\n",
            "\n",
            "  df['Age'].fillna(df['Age'].mean(), inplace=True)\n",
            "/tmp/ipython-input-2022044184.py:13: FutureWarning: A value is trying to be set on a copy of a DataFrame or Series through chained assignment using an inplace method.\n",
            "The behavior will change in pandas 3.0. This inplace method will never work because the intermediate object on which we are setting values always behaves as a copy.\n",
            "\n",
            "For example, when doing 'df[col].method(value, inplace=True)', try using 'df.method({col: value}, inplace=True)' or df[col] = df[col].method(value) instead, to perform the operation inplace on the original object.\n",
            "\n",
            "\n",
            "  df['Embarked'].fillna(df['Embarked'].mode()[0], inplace=True)\n"
          ]
        }
      ]
    },
    {
      "cell_type": "code",
      "source": [
        "\n",
        "import pandas as pd\n",
        "data = {\n",
        "    'Name': ['John', 'Alice', 'Bob', 'Mary', 'Steve', 'Emma'],\n",
        "    'Gender': ['M', 'Female', 'male', 'F', 'MALE', 'femaLe'],\n",
        "    'Age': [20, 21, 22, 23, 24, 22]\n",
        "}\n",
        "\n",
        "df = pd.DataFrame(data)\n",
        "print(\"Before Cleaning:\\n\")\n",
        "print(df)\n",
        "df['Gender'] = df['Gender'].str.lower().map({\n",
        "    'm': 'Male',\n",
        "    'male': 'Male',\n",
        "    'f': 'Female',\n",
        "    'female': 'Female'\n",
        "})\n",
        "print(\"\\nAfter Cleaning:\\n\")\n",
        "print(df)"
      ],
      "metadata": {
        "id": "qcXF35cV8TYS",
        "outputId": "84ce1b85-085f-49f9-e582-49ad1c326991",
        "colab": {
          "base_uri": "https://localhost:8080/"
        }
      },
      "execution_count": 19,
      "outputs": [
        {
          "output_type": "stream",
          "name": "stdout",
          "text": [
            "Before Cleaning:\n",
            "\n",
            "    Name  Gender  Age\n",
            "0   John       M   20\n",
            "1  Alice  Female   21\n",
            "2    Bob    male   22\n",
            "3   Mary       F   23\n",
            "4  Steve    MALE   24\n",
            "5   Emma  femaLe   22\n",
            "\n",
            "After Cleaning:\n",
            "\n",
            "    Name  Gender  Age\n",
            "0   John    Male   20\n",
            "1  Alice  Female   21\n",
            "2    Bob    Male   22\n",
            "3   Mary  Female   23\n",
            "4  Steve    Male   24\n",
            "5   Emma  Female   22\n"
          ]
        }
      ]
    }
  ],
  "metadata": {
    "colab": {
      "name": "Welcome To Colab",
      "provenance": [],
      "include_colab_link": true
    },
    "kernelspec": {
      "display_name": "Python 3",
      "name": "python3"
    }
  },
  "nbformat": 4,
  "nbformat_minor": 0
}