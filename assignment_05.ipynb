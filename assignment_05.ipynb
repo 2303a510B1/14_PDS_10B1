{
  "cells": [
    {
      "cell_type": "markdown",
      "metadata": {
        "id": "view-in-github",
        "colab_type": "text"
      },
      "source": [
        "<a href=\"https://colab.research.google.com/github/2303a510B1/14_PDS_10B1/blob/main/assignment_05.ipynb\" target=\"_parent\"><img src=\"https://colab.research.google.com/assets/colab-badge.svg\" alt=\"Open In Colab\"/></a>"
      ]
    },
    {
      "cell_type": "code",
      "source": [
        "import pandas as pd\n",
        "import matplotlib.pyplot as plt\n",
        "import seaborn as sns\n",
        "# 1. Create two sample datasets\n",
        "students = pd.DataFrame({\n",
        "'student_id': [101, 102, 103, 104, 105],\n",
        "'name': ['Ravi', 'Neha', 'Kiran', 'Sita', 'Arjun'],\n",
        "'department': ['CSE', 'ECE', 'MECH', 'CSE', 'ECE']\n",
        "})\n",
        "scores = pd.DataFrame({\n",
        "'student_id': [101, 102, 103, 106],\n",
        "'exam_score': [85, 92, 78, 88]\n",
        "})\n",
        "print(\"Students Dataset:\\n\", students, \"\\n\")\n",
        "print(\" Scores Dataset:\\n\", scores, \"\\n\")\n",
        "# 2. Merge datasets using student_id\n",
        "inner_join = pd.merge(students, scores, on='student_id', how='inner')\n",
        "left_join  = pd.merge(students, scores, on='student_id', how='left')\n",
        "right_join = pd.merge(students, scores, on='student_id', how='right')\n",
        "print(\" Inner Join:\\n\", inner_join, \"\\n\")\n",
        "print(\" Left Join:\\n\", left_join, \"\\n\")\n",
        "print(\" Right Join:\\n\", right_join, \"\\n\")\n",
        "# 3. Compute aggregate statistics\n",
        "print(\" Aggregate Statistics (exam_score):\")\n",
        "print(\"Mean:\", inner_join['exam_score'].mean())\n",
        "print(\"Max:\", inner_join['exam_score'].max())\n",
        "print(\"Min:\", inner_join['exam_score'].min())\n",
        "print(\"Count:\", inner_join['exam_score'].count(), \"\\n\")\n",
        "# 4. Group by department and calculate stats\n",
        "grouped_stats = inner_join.groupby('department')['exam_score'].agg(['mean', 'max', 'min',\n",
        "'count'])\n",
        "print(\" Group-wise Statistics by Department:\\n\", grouped_stats, \"\\n\")\n",
        "# 5. Visualization\n",
        "plt.figure(figsize=(6,4))\n",
        "sns.barplot(x='department', y='exam_score', data=inner_join, estimator='mean',\n",
        "palette='viridis')\n",
        "plt.title(\"Average Exam Score by Department\")\n",
        "plt.xlabel(\"Department\")\n",
        "plt.ylabel(\"Average Score\")\n",
        "plt.show()"
      ],
      "metadata": {
        "id": "IgSzOrdavhe4",
        "outputId": "c02b59b2-8e91-4464-d413-28ec2b746271",
        "colab": {
          "base_uri": "https://localhost:8080/",
          "height": 1000
        }
      },
      "execution_count": 6,
      "outputs": [
        {
          "output_type": "stream",
          "name": "stdout",
          "text": [
            "Students Dataset:\n",
            "    student_id   name department\n",
            "0         101   Ravi        CSE\n",
            "1         102   Neha        ECE\n",
            "2         103  Kiran       MECH\n",
            "3         104   Sita        CSE\n",
            "4         105  Arjun        ECE \n",
            "\n",
            " Scores Dataset:\n",
            "    student_id  exam_score\n",
            "0         101          85\n",
            "1         102          92\n",
            "2         103          78\n",
            "3         106          88 \n",
            "\n",
            " Inner Join:\n",
            "    student_id   name department  exam_score\n",
            "0         101   Ravi        CSE          85\n",
            "1         102   Neha        ECE          92\n",
            "2         103  Kiran       MECH          78 \n",
            "\n",
            " Left Join:\n",
            "    student_id   name department  exam_score\n",
            "0         101   Ravi        CSE        85.0\n",
            "1         102   Neha        ECE        92.0\n",
            "2         103  Kiran       MECH        78.0\n",
            "3         104   Sita        CSE         NaN\n",
            "4         105  Arjun        ECE         NaN \n",
            "\n",
            " Right Join:\n",
            "    student_id   name department  exam_score\n",
            "0         101   Ravi        CSE          85\n",
            "1         102   Neha        ECE          92\n",
            "2         103  Kiran       MECH          78\n",
            "3         106    NaN        NaN          88 \n",
            "\n",
            " Aggregate Statistics (exam_score):\n",
            "Mean: 85.0\n",
            "Max: 92\n",
            "Min: 78\n",
            "Count: 3 \n",
            "\n",
            " Group-wise Statistics by Department:\n",
            "             mean  max  min  count\n",
            "department                       \n",
            "CSE         85.0   85   85      1\n",
            "ECE         92.0   92   92      1\n",
            "MECH        78.0   78   78      1 \n",
            "\n"
          ]
        },
        {
          "output_type": "stream",
          "name": "stderr",
          "text": [
            "/tmp/ipython-input-801900251.py:35: FutureWarning: \n",
            "\n",
            "Passing `palette` without assigning `hue` is deprecated and will be removed in v0.14.0. Assign the `x` variable to `hue` and set `legend=False` for the same effect.\n",
            "\n",
            "  sns.barplot(x='department', y='exam_score', data=inner_join, estimator='mean',\n"
          ]
        },
        {
          "output_type": "display_data",
          "data": {
            "text/plain": [
              "<Figure size 600x400 with 1 Axes>"
            ],
            "image/png": "[encoded data removed]"
          },
          "metadata": {}
        }
      ]
    },
    {
      "cell_type": "code",
      "source": [
        "\n",
        "# 1. Import Libraries\n",
        "\n",
        "import pandas as pd\n",
        "import matplotlib.pyplot as plt\n",
        "import seaborn as sns\n",
        "\n",
        "# 2. Load Datasets (Replace with your CSVs)\n",
        "\n",
        "customers = pd.DataFrame({\n",
        "    'customer_id': [1, 2, 3, 4],\n",
        "    'name': ['Ravi', 'Neha', 'Kiran', 'Sita'],\n",
        "    'region': ['North', 'South', 'North', 'East']\n",
        "})\n",
        "\n",
        "sales = pd.DataFrame({\n",
        "    'sale_id': [101, 102, 103, 104, 105],\n",
        "    'customer_id': [1, 2, 2, 3, 5],   # note: customer_id 5 not in customers\n",
        "    'amount': [250, 400, 150, 600, 300],\n",
        "    'date': pd.to_datetime(['2023-01-10', '2023-01-12', '2023-01-15', '2023-02-05', '2023-02-20'])\n",
        "})\n",
        "\n",
        "print(\" Customers Dataset:\\n\", customers, \"\\n\")\n",
        "print(\" Sales Dataset:\\n\", sales, \"\\n\")\n",
        "\n",
        "# 3. Merge Datasets\n",
        "\n",
        "inner_join = pd.merge(sales, customers, on=\"customer_id\", how=\"inner\")\n",
        "left_join = pd.merge(sales, customers, on=\"customer_id\", how=\"left\")\n",
        "\n",
        "print(\" Inner Join:\\n\", inner_join, \"\\n\")\n",
        "print(\" Left Join:\\n\", left_join, \"\\n\")\n",
        "\n",
        "# 4. Compute Aggregate Sales Statistics\n",
        "\n",
        "print(\" Overall Sales Statistics:\")\n",
        "print(\"Total Sales:\", sales['amount'].sum())\n",
        "print(\"Average Sale:\", sales['amount'].mean())\n",
        "print(\"Max Sale:\", sales['amount'].max())\n",
        "print(\"Min Sale:\", sales['amount'].min(), \"\\n\")\n",
        "\n",
        "# Sales per customer\n",
        "sales_per_customer = inner_join.groupby('name')['amount'].sum().reset_index()\n",
        "print(\" Sales Per Customer:\\n\", sales_per_customer, \"\\n\")\n",
        "\n",
        "\n",
        "# 5. Group Sales by Region\n",
        "\n",
        "region_sales = inner_join.groupby('region')['amount'].agg(['sum', 'mean', 'max', 'count']).reset_index()\n",
        "print(\" Sales by Region:\\n\", region_sales, \"\\n\")\n",
        "\n",
        "\n",
        "# 6. Visualization\n",
        "\n",
        "plt.figure(figsize=(6,4))\n",
        "sns.barplot(x='region', y='sum', data=region_sales, palette='viridis')\n",
        "plt.title(\"Total Sales by Region\")\n",
        "plt.xlabel(\"Region\")\n",
        "plt.ylabel(\"Total Sales\")\n",
        "plt.show()\n"
      ],
      "metadata": {
        "id": "Q_Zt6nL7jobl",
        "outputId": "b5386ba6-88cf-4c71-df59-518bd4bba55d",
        "colab": {
          "base_uri": "https://localhost:8080/",
          "height": 1000
        }
      },
      "execution_count": 7,
      "outputs": [
        {
          "output_type": "stream",
          "name": "stdout",
          "text": [
            " Customers Dataset:\n",
            "    customer_id   name region\n",
            "0            1   Ravi  North\n",
            "1            2   Neha  South\n",
            "2            3  Kiran  North\n",
            "3            4   Sita   East \n",
            "\n",
            " Sales Dataset:\n",
            "    sale_id  customer_id  amount       date\n",
            "0      101            1     250 2023-01-10\n",
            "1      102            2     400 2023-01-12\n",
            "2      103            2     150 2023-01-15\n",
            "3      104            3     600 2023-02-05\n",
            "4      105            5     300 2023-02-20 \n",
            "\n",
            " Inner Join:\n",
            "    sale_id  customer_id  amount       date   name region\n",
            "0      101            1     250 2023-01-10   Ravi  North\n",
            "1      102            2     400 2023-01-12   Neha  South\n",
            "2      103            2     150 2023-01-15   Neha  South\n",
            "3      104            3     600 2023-02-05  Kiran  North \n",
            "\n",
            " Left Join:\n",
            "    sale_id  customer_id  amount       date   name region\n",
            "0      101            1     250 2023-01-10   Ravi  North\n",
            "1      102            2     400 2023-01-12   Neha  South\n",
            "2      103            2     150 2023-01-15   Neha  South\n",
            "3      104            3     600 2023-02-05  Kiran  North\n",
            "4      105            5     300 2023-02-20    NaN    NaN \n",
            "\n",
            " Overall Sales Statistics:\n",
            "Total Sales: 1700\n",
            "Average Sale: 340.0\n",
            "Max Sale: 600\n",
            "Min Sale: 150 \n",
            "\n",
            " Sales Per Customer:\n",
            "     name  amount\n",
            "0  Kiran     600\n",
            "1   Neha     550\n",
            "2   Ravi     250 \n",
            "\n",
            " Sales by Region:\n",
            "   region  sum   mean  max  count\n",
            "0  North  850  425.0  600      2\n",
            "1  South  550  275.0  400      2 \n",
            "\n"
          ]
        },
        {
          "output_type": "stream",
          "name": "stderr",
          "text": [
            "/tmp/ipython-input-138031857.py:55: FutureWarning: \n",
            "\n",
            "Passing `palette` without assigning `hue` is deprecated and will be removed in v0.14.0. Assign the `x` variable to `hue` and set `legend=False` for the same effect.\n",
            "\n",
            "  sns.barplot(x='region', y='sum', data=region_sales, palette='viridis')\n"
          ]
        },
        {
          "output_type": "display_data",
          "data": {
            "text/plain": [
              "<Figure size 600x400 with 1 Axes>"
            ],
            "image/png": "[encoded data removed]"
          },
          "metadata": {}
        }
      ]
    }
  ],
  "metadata": {
    "colab": {
      "name": "Welcome To Colab",
      "provenance": [],
      "include_colab_link": true
    },
    "kernelspec": {
      "display_name": "Python 3",
      "name": "python3"
    }
  },
  "nbformat": 4,
  "nbformat_minor": 0
}