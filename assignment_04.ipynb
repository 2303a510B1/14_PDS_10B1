{
  "cells": [
    {
      "cell_type": "markdown",
      "metadata": {
        "id": "view-in-github",
        "colab_type": "text"
      },
      "source": [
        "<a href=\"https://colab.research.google.com/github/2303a510B1/14_PDS_10B1/blob/main/assignment_04.ipynb\" target=\"_parent\"><img src=\"https://colab.research.google.com/assets/colab-badge.svg\" alt=\"Open In Colab\"/></a>"
      ]
    },
    {
      "cell_type": "code",
      "source": [
        "import pandas as pd\n",
        "file_path = '/content/student_scores.csv.csv'\n",
        "student_data = pd.read_csv(file_path)\n",
        "student_data['Math'].fillna(student_data['Math'].mean(), inplace=True)\n",
        "student_data['Science'].fillna(student_data['Science'].mean(), inplace=True)\n",
        "student_data['English'].fillna(student_data['English'].mean(), inplace=True)\n",
        "high_achievers = student_data[\n",
        "    (student_data['Math'] > 75) &\n",
        "    (student_data['Science'] > 75) &\n",
        "    (student_data['English'] > 75)\n",
        "]\n",
        "print(high_achievers)\n"
      ],
      "metadata": {
        "id": "V2EzjUsa4RsL",
        "outputId": "a31ccaf7-ae83-48f8-e574-12e1a921cb40",
        "colab": {
          "base_uri": "https://localhost:8080/"
        }
      },
      "execution_count": 2,
      "outputs": [
        {
          "output_type": "stream",
          "name": "stdout",
          "text": [
            "   Student_ID           Name  Math  Science  English\n",
            "0           1       John Doe  85.0     78.0       92\n",
            "2           3    Bob Johnson  90.0     88.0       95\n",
            "5           6    Emily Clark  88.0     90.0       85\n",
            "7           8     Sophia Lee  95.0     92.0       94\n",
            "9          10  Olivia Harris  80.0     85.0       90\n"
          ]
        },
        {
          "output_type": "stream",
          "name": "stderr",
          "text": [
            "/tmp/ipython-input-3995300817.py:4: FutureWarning: A value is trying to be set on a copy of a DataFrame or Series through chained assignment using an inplace method.\n",
            "The behavior will change in pandas 3.0. This inplace method will never work because the intermediate object on which we are setting values always behaves as a copy.\n",
            "\n",
            "For example, when doing 'df[col].method(value, inplace=True)', try using 'df.method({col: value}, inplace=True)' or df[col] = df[col].method(value) instead, to perform the operation inplace on the original object.\n",
            "\n",
            "\n",
            "  student_data['Math'].fillna(student_data['Math'].mean(), inplace=True)\n",
            "/tmp/ipython-input-3995300817.py:5: FutureWarning: A value is trying to be set on a copy of a DataFrame or Series through chained assignment using an inplace method.\n",
            "The behavior will change in pandas 3.0. This inplace method will never work because the intermediate object on which we are setting values always behaves as a copy.\n",
            "\n",
            "For example, when doing 'df[col].method(value, inplace=True)', try using 'df.method({col: value}, inplace=True)' or df[col] = df[col].method(value) instead, to perform the operation inplace on the original object.\n",
            "\n",
            "\n",
            "  student_data['Science'].fillna(student_data['Science'].mean(), inplace=True)\n",
            "/tmp/ipython-input-3995300817.py:6: FutureWarning: A value is trying to be set on a copy of a DataFrame or Series through chained assignment using an inplace method.\n",
            "The behavior will change in pandas 3.0. This inplace method will never work because the intermediate object on which we are setting values always behaves as a copy.\n",
            "\n",
            "For example, when doing 'df[col].method(value, inplace=True)', try using 'df.method({col: value}, inplace=True)' or df[col] = df[col].method(value) instead, to perform the operation inplace on the original object.\n",
            "\n",
            "\n",
            "  student_data['English'].fillna(student_data['English'].mean(), inplace=True)\n"
          ]
        }
      ]
    },
    {
      "cell_type": "code",
      "source": [
        "import pandas as pd\n",
        "import numpy as np\n",
        "\n",
        "# Step 1: Load the dataset\n",
        "file_path = '/content/blackbox-output-code-XA4Y4QM4M6.csv'\n",
        "patients_data = pd.read_csv(file_path)\n",
        "\n",
        "print(\"Original Dataset:\")\n",
        "print(patients_data)\n",
        "print(\"\\n\" + \"=\"*50 + \"\\n\")\n",
        "\n",
        "# Step 2: Replace missing Age values with median\n",
        "# Calculate median age (excluding NaN values)\n",
        "median_age = patients_data['Age'].median()\n",
        "print(f\"Median Age: {median_age}\")\n",
        "\n",
        "# Fill missing Age values with median\n",
        "patients_data['Age'].fillna(median_age, inplace=True)\n",
        "\n",
        "print(\"\\nDataset after filling missing Age values:\")\n",
        "print(patients_data)\n",
        "print(\"\\n\" + \"=\"*50 + \"\\n\")\n",
        "\n",
        "# Step 3: Filter female patients aged above 50 diagnosed with Diabetes\n",
        "# Convert Age to integer (since median might be float)\n",
        "patients_data['Age'] = patients_data['Age'].astype(int)\n",
        "\n",
        "# Filter criteria: Female, Age > 50, Diagnosis contains 'Diabetes'\n",
        "elderly_female_diabetes = patients_data[\n",
        "    (patients_data['Gender'] == 'Female') &\n",
        "    (patients_data['Age'] > 50) &\n",
        "    (patients_data['Diagnosis'].str.contains('Diabetes', case=False, na=False))\n",
        "]\n",
        "\n",
        "print(\"Elderly Female Patients with Diabetes (Age > 50):\")\n",
        "print(elderly_female_diabetes)\n",
        "print(\"\\n\" + \"=\"*50 + \"\\n\")\n",
        "\n",
        "# Additional analysis - show summary statistics\n",
        "print(\"Summary Statistics:\")\n",
        "print(f\"Total patients: {len(patients_data)}\")\n",
        "print(f\"Elderly female diabetes patients: {len(elderly_female_diabetes)}\")\n",
        "print(f\"Percentage: {(len(elderly_female_diabetes)/len(patients_data)*100):.1f}%\")\n",
        "\n",
        "# Save the filtered results to a new CSV file\n",
        "elderly_female_diabetes.to_csv('elderly_female_diabetes_patients.csv', index=False)\n",
        "print(\"\\nFiltered results saved to 'elderly_female_diabetes_patients.csv'\")\n"
      ],
      "metadata": {
        "id": "dW9n6Bux6Zn4",
        "outputId": "81dc5706-c82a-4a0d-f085-78da3052ddb7",
        "colab": {
          "base_uri": "https://localhost:8080/"
        }
      },
      "execution_count": 3,
      "outputs": [
        {
          "output_type": "stream",
          "name": "stdout",
          "text": [
            "Original Dataset:\n",
            "    Patient_ID               Name   Age  Gender      Diagnosis Admission_Date\n",
            "0            1         John Smith  65.0    Male   Hypertension     2023-01-15\n",
            "1            2       Mary Johnson  72.0  Female       Diabetes     2023-02-20\n",
            "2            3       Robert Brown   NaN    Male      Pneumonia     2023-03-10\n",
            "3            4        Susan Davis  58.0  Female       Diabetes     2023-01-25\n",
            "4            5     Michael Wilson  45.0    Male   Appendicitis     2023-04-05\n",
            "5            6    Jennifer Miller  68.0  Female      Arthritis     2023-02-12\n",
            "6            7     William Taylor  81.0    Male       Diabetes     2023-03-18\n",
            "7            8  Patricia Anderson   NaN  Female       Diabetes     2023-01-08\n",
            "8            9       David Thomas  62.0    Male  Heart Disease     2023-04-22\n",
            "9           10     Linda Martinez  55.0  Female       Diabetes     2023-02-28\n",
            "10          11    Richard Jackson  79.0    Male      Pneumonia     2023-03-15\n",
            "11          12    Elizabeth White  48.0  Female       Migraine     2023-04-10\n",
            "12          13       James Harris  71.0    Male       Diabetes     2023-01-30\n",
            "13          14     Barbara Martin  63.0  Female   Hypertension     2023-02-14\n",
            "14          15     Charles Garcia   NaN    Male       Diabetes     2023-03-25\n",
            "15          16  Margaret Robinson  76.0  Female       Diabetes     2023-04-18\n",
            "16          17       Joseph Clark  59.0    Male     Bronchitis     2023-01-12\n",
            "17          18  Dorothy Rodriguez  67.0  Female       Diabetes     2023-02-22\n",
            "18          19       Thomas Lewis  52.0    Male   Appendicitis     2023-03-08\n",
            "19          20       Nancy Walker  74.0  Female      Arthritis     2023-04-28\n",
            "\n",
            "==================================================\n",
            "\n",
            "Median Age: 65.0\n",
            "\n",
            "Dataset after filling missing Age values:\n",
            "    Patient_ID               Name   Age  Gender      Diagnosis Admission_Date\n",
            "0            1         John Smith  65.0    Male   Hypertension     2023-01-15\n",
            "1            2       Mary Johnson  72.0  Female       Diabetes     2023-02-20\n",
            "2            3       Robert Brown  65.0    Male      Pneumonia     2023-03-10\n",
            "3            4        Susan Davis  58.0  Female       Diabetes     2023-01-25\n",
            "4            5     Michael Wilson  45.0    Male   Appendicitis     2023-04-05\n",
            "5            6    Jennifer Miller  68.0  Female      Arthritis     2023-02-12\n",
            "6            7     William Taylor  81.0    Male       Diabetes     2023-03-18\n",
            "7            8  Patricia Anderson  65.0  Female       Diabetes     2023-01-08\n",
            "8            9       David Thomas  62.0    Male  Heart Disease     2023-04-22\n",
            "9           10     Linda Martinez  55.0  Female       Diabetes     2023-02-28\n",
            "10          11    Richard Jackson  79.0    Male      Pneumonia     2023-03-15\n",
            "11          12    Elizabeth White  48.0  Female       Migraine     2023-04-10\n",
            "12          13       James Harris  71.0    Male       Diabetes     2023-01-30\n",
            "13          14     Barbara Martin  63.0  Female   Hypertension     2023-02-14\n",
            "14          15     Charles Garcia  65.0    Male       Diabetes     2023-03-25\n",
            "15          16  Margaret Robinson  76.0  Female       Diabetes     2023-04-18\n",
            "16          17       Joseph Clark  59.0    Male     Bronchitis     2023-01-12\n",
            "17          18  Dorothy Rodriguez  67.0  Female       Diabetes     2023-02-22\n",
            "18          19       Thomas Lewis  52.0    Male   Appendicitis     2023-03-08\n",
            "19          20       Nancy Walker  74.0  Female      Arthritis     2023-04-28\n",
            "\n",
            "==================================================\n",
            "\n",
            "Elderly Female Patients with Diabetes (Age > 50):\n",
            "    Patient_ID               Name  Age  Gender Diagnosis Admission_Date\n",
            "1            2       Mary Johnson   72  Female  Diabetes     2023-02-20\n",
            "3            4        Susan Davis   58  Female  Diabetes     2023-01-25\n",
            "7            8  Patricia Anderson   65  Female  Diabetes     2023-01-08\n",
            "9           10     Linda Martinez   55  Female  Diabetes     2023-02-28\n",
            "15          16  Margaret Robinson   76  Female  Diabetes     2023-04-18\n",
            "17          18  Dorothy Rodriguez   67  Female  Diabetes     2023-02-22\n",
            "\n",
            "==================================================\n",
            "\n",
            "Summary Statistics:\n",
            "Total patients: 20\n",
            "Elderly female diabetes patients: 6\n",
            "Percentage: 30.0%\n",
            "\n",
            "Filtered results saved to 'elderly_female_diabetes_patients.csv'\n"
          ]
        },
        {
          "output_type": "stream",
          "name": "stderr",
          "text": [
            "/tmp/ipython-input-724190769.py:18: FutureWarning: A value is trying to be set on a copy of a DataFrame or Series through chained assignment using an inplace method.\n",
            "The behavior will change in pandas 3.0. This inplace method will never work because the intermediate object on which we are setting values always behaves as a copy.\n",
            "\n",
            "For example, when doing 'df[col].method(value, inplace=True)', try using 'df.method({col: value}, inplace=True)' or df[col] = df[col].method(value) instead, to perform the operation inplace on the original object.\n",
            "\n",
            "\n",
            "  patients_data['Age'].fillna(median_age, inplace=True)\n"
          ]
        }
      ]
    }
  ],
  "metadata": {
    "colab": {
      "name": "Welcome To Colab",
      "provenance": [],
      "include_colab_link": true
    },
    "kernelspec": {
      "display_name": "Python 3",
      "name": "python3"
    }
  },
  "nbformat": 4,
  "nbformat_minor": 0
}